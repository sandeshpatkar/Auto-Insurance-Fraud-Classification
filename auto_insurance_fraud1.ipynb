{
  "nbformat": 4,
  "nbformat_minor": 0,
  "metadata": {
    "kernelspec": {
      "language": "python",
      "display_name": "Python 3",
      "name": "python3"
    },
    "language_info": {
      "pygments_lexer": "ipython3",
      "nbconvert_exporter": "python",
      "version": "3.6.4",
      "file_extension": ".py",
      "codemirror_mode": {
        "name": "ipython",
        "version": 3
      },
      "name": "python",
      "mimetype": "text/x-python"
    },
    "colab": {
      "name": "auto insurance fraud.ipynb",
      "provenance": [],
      "collapsed_sections": [
        "aI86HBaBEfqO",
        "asmon9vud3T3",
        "49ToaIMAc2Bl",
        "QULpCGvHfE_T",
        "5kGNhavmfdVy",
        "vMtEo-utfAMd",
        "QcHU4VLgQ2Oz",
        "mo2RoIHuZVxr",
        "DQ5dQ3ubbOlk",
        "rgn1_8546GFB",
        "OTpV3ioa6GFE",
        "rWTWk2B56GFK",
        "NwvAlpPS6GFK",
        "hkW8afO26GFN",
        "YWdGnxBH6GFe"
      ]
    }
  },
  "cells": [
    {
      "cell_type": "code",
      "metadata": {
        "trusted": true,
        "id": "s4ff27IizGyS",
        "colab_type": "code",
        "colab": {}
      },
      "source": [
        "import pandas as pd\n",
        "import numpy as np\n",
        "import datetime as dt\n",
        "\n",
        "#data viz\n",
        "#for better viz\n",
        "import plotly.express as px\n",
        "import plotly.graph_objects as go\n",
        "\n",
        "#for quick viz\n",
        "import seaborn as sns\n",
        "\n",
        "#ml\n",
        "from sklearn.model_selection import train_test_split\n",
        "from sklearn.linear_model import LogisticRegression\n",
        "from imblearn.over_sampling import SMOTE\n",
        "from imblearn.under_sampling import RandomUnderSampler\n",
        "from sklearn.metrics import classification_report\n",
        "from imblearn.pipeline import Pipeline\n",
        "from sklearn.tree import DecisionTreeClassifier\n",
        "from sklearn.metrics import accuracy_score\n",
        "from sklearn.model_selection import GridSearchCV"
      ],
      "execution_count": 0,
      "outputs": []
    },
    {
      "cell_type": "code",
      "metadata": {
        "_uuid": "d629ff2d2480ee46fbb7e2d37f6b5fab8052498a",
        "_cell_guid": "79c7e3d0-c299-4dcb-8224-4455121ee9b0",
        "trusted": true,
        "id": "agSFJvhozGyY",
        "colab_type": "code",
        "colab": {}
      },
      "source": [
        "df = pd.read_csv('https://docs.google.com/spreadsheets/d/e/2PACX-1vTELEG31xdnCX1f2h7mqAbgPw40hQnzsC6CxX16mIWORA5Vq0XOmUbWf_aQcMzAkX0cUq6WEhe28G5f/pub?output=csv')\n",
        "df.head()"
      ],
      "execution_count": 0,
      "outputs": []
    },
    {
      "cell_type": "markdown",
      "metadata": {
        "id": "Z6WPdoBszGyf",
        "colab_type": "text"
      },
      "source": [
        "# EDA and cleaning"
      ]
    },
    {
      "cell_type": "code",
      "metadata": {
        "trusted": true,
        "id": "73TEmm7CzGyg",
        "colab_type": "code",
        "colab": {}
      },
      "source": [
        "df.isnull().sum()"
      ],
      "execution_count": 0,
      "outputs": []
    },
    {
      "cell_type": "markdown",
      "metadata": {
        "id": "ataK7c4pzGyn",
        "colab_type": "text"
      },
      "source": [
        "There are no null values in the dataset."
      ]
    },
    {
      "cell_type": "code",
      "metadata": {
        "trusted": true,
        "id": "LQAvaeP3zGyp",
        "colab_type": "code",
        "colab": {}
      },
      "source": [
        "# removing column named _c39 as it contains only null values\n",
        "\n",
        "df = df.drop(['_c39'], axis = 1)"
      ],
      "execution_count": 0,
      "outputs": []
    },
    {
      "cell_type": "code",
      "metadata": {
        "trusted": true,
        "id": "DqDxKSBjzGyv",
        "colab_type": "code",
        "colab": {}
      },
      "source": [
        "df.info()"
      ],
      "execution_count": 0,
      "outputs": []
    },
    {
      "cell_type": "markdown",
      "metadata": {
        "id": "pSek7qutzGy1",
        "colab_type": "text"
      },
      "source": [
        "There doesn't seem to be need to change column data types except for `policy_bind_date` which we will convert to `datetime` type"
      ]
    },
    {
      "cell_type": "code",
      "metadata": {
        "trusted": true,
        "id": "3HhLGk0DzGy3",
        "colab_type": "code",
        "colab": {}
      },
      "source": [
        "df['policy_bind_date'] = pd.to_datetime(df['policy_bind_date'])"
      ],
      "execution_count": 0,
      "outputs": []
    },
    {
      "cell_type": "code",
      "metadata": {
        "trusted": true,
        "id": "uxnPEq2QzGy-",
        "colab_type": "code",
        "colab": {}
      },
      "source": [
        "df.describe().T"
      ],
      "execution_count": 0,
      "outputs": []
    },
    {
      "cell_type": "code",
      "metadata": {
        "trusted": true,
        "id": "OkLLxH36zGzE",
        "colab_type": "code",
        "colab": {}
      },
      "source": [
        "for i in df.columns:\n",
        "    if df[i].dtype == 'object':\n",
        "        print(i, \":\", df[i].nunique())"
      ],
      "execution_count": 0,
      "outputs": []
    },
    {
      "cell_type": "markdown",
      "metadata": {
        "id": "JD3HjLAKzGzJ",
        "colab_type": "text"
      },
      "source": [
        "We will drop some of the columns: `policy_state', 'policy_csl', 'incident_date', 'incident_state', 'incident_city' and 'incident_location`"
      ]
    },
    {
      "cell_type": "code",
      "metadata": {
        "trusted": true,
        "id": "deEqA0k7zGzK",
        "colab_type": "code",
        "colab": {}
      },
      "source": [
        "drop_columns = ['policy_state', 'policy_csl', 'incident_date', 'incident_state', 'incident_city', 'incident_location']\n",
        "df = df.drop(drop_columns, axis = 1)\n",
        "df.head()"
      ],
      "execution_count": 0,
      "outputs": []
    },
    {
      "cell_type": "code",
      "metadata": {
        "trusted": true,
        "id": "Mh1A-fbJzGzP",
        "colab_type": "code",
        "colab": {}
      },
      "source": [
        "for i in df.columns:\n",
        "    if df[i].dtype == 'object':\n",
        "        print(i, \":\", df[i].nunique())"
      ],
      "execution_count": 0,
      "outputs": []
    },
    {
      "cell_type": "markdown",
      "metadata": {
        "id": "dZkEOIDkzGzW",
        "colab_type": "text"
      },
      "source": [
        "`fraud_reported` is going to be our target column. We will convert it to 1 and 0."
      ]
    },
    {
      "cell_type": "code",
      "metadata": {
        "trusted": true,
        "id": "V6kRJ2eezGzX",
        "colab_type": "code",
        "colab": {}
      },
      "source": [
        "df['fraud_reported'] = df['fraud_reported'].str.replace('Y', '1')\n",
        "df['fraud_reported'] = df['fraud_reported'].str.replace('N', '0')\n",
        "df['fraud_reported'] = df['fraud_reported'].astype(int)"
      ],
      "execution_count": 0,
      "outputs": []
    },
    {
      "cell_type": "code",
      "metadata": {
        "trusted": true,
        "id": "-5YyiFuozGzc",
        "colab_type": "code",
        "colab": {}
      },
      "source": [
        "df['fraud_reported'].unique()"
      ],
      "execution_count": 0,
      "outputs": []
    },
    {
      "cell_type": "markdown",
      "metadata": {
        "id": "iXoU0ukEzGzh",
        "colab_type": "text"
      },
      "source": [
        "`policy_deductable`: In an insurance policy, the deductible is the amount paid out of pocket by the policy holder before an insurance provider will pay any expenses."
      ]
    },
    {
      "cell_type": "code",
      "metadata": {
        "id": "rUlPDx11FwPN",
        "trusted": true,
        "colab_type": "code",
        "colab": {}
      },
      "source": [
        "sns.countplot(df['fraud_reported'])"
      ],
      "execution_count": 0,
      "outputs": []
    },
    {
      "cell_type": "markdown",
      "metadata": {
        "id": "JmRMc94FWzvq",
        "colab_type": "text"
      },
      "source": [
        "Our data is very imbalanced."
      ]
    },
    {
      "cell_type": "markdown",
      "metadata": {
        "id": "9wht4-lGXsR8",
        "colab_type": "text"
      },
      "source": [
        "We will visualize the data and see if there is any feature which might influence the claims"
      ]
    },
    {
      "cell_type": "code",
      "metadata": {
        "trusted": true,
        "id": "zMvTI8dtzGzi",
        "colab_type": "code",
        "colab": {}
      },
      "source": [
        "def vis_data(df, x, y = 'fraud_reported', graph = 'countplot'):\n",
        "    if graph == 'hist':\n",
        "        fig = px.histogram(df, x = x)\n",
        "        fig.update_layout(title = 'Distribution of {x}'.format(x = x))\n",
        "        fig.show()\n",
        "    elif graph == 'bar':\n",
        "      fig = px.bar(df, x = x, y = y)\n",
        "      fig.update_layout(title = '{x} vs. {y}'.format(x = x, y = y))\n",
        "      fig.show()\n",
        "    elif graph == 'countplot':\n",
        "      a = df.groupby([x,y]).count()\n",
        "      a.reset_index(inplace = True)\n",
        "      no_fraud = a[a['fraud_reported'] == 0]\n",
        "      yes_fraud = a[a['fraud_reported'] == 1]\n",
        "      trace1 = go.Bar(x = no_fraud[x], y = no_fraud['policy_number'], name = 'No Fraud')\n",
        "      trace2 = go.Bar(x = yes_fraud[x], y = yes_fraud['policy_number'], name = 'Fraud')\n",
        "      fig = go.Figure(data = [trace1, trace2])\n",
        "      fig.update_layout(title = '{x} vs. {y}'.format(x=x, y = y))\n",
        "      fig.update_layout(barmode = 'group')\n",
        "      fig.show()"
      ],
      "execution_count": 0,
      "outputs": []
    },
    {
      "cell_type": "code",
      "metadata": {
        "id": "foErRsL4YkDk",
        "trusted": true,
        "colab_type": "code",
        "colab": {}
      },
      "source": [
        "vis_data(df, 'insured_sex')"
      ],
      "execution_count": 0,
      "outputs": []
    },
    {
      "cell_type": "code",
      "metadata": {
        "id": "LGGwONYhYqPY",
        "trusted": true,
        "colab_type": "code",
        "colab": {}
      },
      "source": [
        "vis_data(df, 'insured_education_level')"
      ],
      "execution_count": 0,
      "outputs": []
    },
    {
      "cell_type": "code",
      "metadata": {
        "id": "beLh7JL1YqLN",
        "trusted": true,
        "colab_type": "code",
        "colab": {}
      },
      "source": [
        "vis_data(df, 'insured_occupation')"
      ],
      "execution_count": 0,
      "outputs": []
    },
    {
      "cell_type": "markdown",
      "metadata": {
        "id": "LFfJSFS1ZcXK",
        "colab_type": "text"
      },
      "source": [
        "From the data, it looks like people in exec-managerial positions have more number of frauds compared to other occupations.\n",
        "\n",
        "Sales, tech-support and transport moving also have relatively high cases of fraud."
      ]
    },
    {
      "cell_type": "code",
      "metadata": {
        "id": "ff_ZCu_CYqJj",
        "trusted": true,
        "colab_type": "code",
        "colab": {}
      },
      "source": [
        "vis_data(df, 'insured_relationship')"
      ],
      "execution_count": 0,
      "outputs": []
    },
    {
      "cell_type": "code",
      "metadata": {
        "id": "X5rJKJzZY76V",
        "trusted": true,
        "colab_type": "code",
        "colab": {}
      },
      "source": [
        "vis_data(df, 'incident_type')"
      ],
      "execution_count": 0,
      "outputs": []
    },
    {
      "cell_type": "markdown",
      "metadata": {
        "id": "wSvWBK1Ea3nf",
        "colab_type": "text"
      },
      "source": [
        "Multi-vehicle and single vehicle collisions have more number of frauds compared to parked and vehicle theft. One of the reasons could be that in a collision, there is high possibility of more damage to car, as well as the passengers and hence the need to file false insurance claims."
      ]
    },
    {
      "cell_type": "code",
      "metadata": {
        "id": "VRx3_XPiY74-",
        "trusted": true,
        "colab_type": "code",
        "colab": {}
      },
      "source": [
        "vis_data(df, 'collision_type')"
      ],
      "execution_count": 0,
      "outputs": []
    },
    {
      "cell_type": "markdown",
      "metadata": {
        "id": "ITBMLPCdbTh6",
        "colab_type": "text"
      },
      "source": [
        "While there are significant numbers of false claims in front and side collisions, rear collisions are the highest.\n",
        "\n",
        "This data is for the US and there, many people use dash cams while driving to record whatever is happening while they drive. In rear collisions, the footage from dash cams is not very helpful to onclusively prove whose mistake it was (insurance owner or other car owner). Maybe that is the reason for more fradulent claims in rear collisions."
      ]
    },
    {
      "cell_type": "code",
      "metadata": {
        "id": "dz3IHW_GY72e",
        "trusted": true,
        "colab_type": "code",
        "colab": {}
      },
      "source": [
        "vis_data(df, 'incident_severity')"
      ],
      "execution_count": 0,
      "outputs": []
    },
    {
      "cell_type": "markdown",
      "metadata": {
        "id": "N2rgRwczcA3w",
        "colab_type": "text"
      },
      "source": [
        "Here, compared to minor damage, total loss and trivial damage, fraudulent claims are highest in major damage.\n",
        "\n",
        "One reason could be that the high amount of repair cost which will be incurred by the insurer due to major damage. "
      ]
    },
    {
      "cell_type": "code",
      "metadata": {
        "id": "ClOBFzwnY70l",
        "trusted": true,
        "colab_type": "code",
        "colab": {}
      },
      "source": [
        "vis_data(df, 'authorities_contacted')"
      ],
      "execution_count": 0,
      "outputs": []
    },
    {
      "cell_type": "code",
      "metadata": {
        "id": "zYHMTz-QY7w3",
        "trusted": true,
        "colab_type": "code",
        "colab": {}
      },
      "source": [
        "vis_data(df, 'insured_hobbies')"
      ],
      "execution_count": 0,
      "outputs": []
    },
    {
      "cell_type": "markdown",
      "metadata": {
        "id": "WwlKfTEhdjxm",
        "colab_type": "text"
      },
      "source": [
        "One thing which is striking in this graph is that people with chess and cross-fit as hobby have extremely high number of fraudulent claims.\n",
        "\n",
        "We will keep them and rename other values as 'other'"
      ]
    },
    {
      "cell_type": "code",
      "metadata": {
        "id": "dKQiLS8UY7vQ",
        "trusted": true,
        "colab_type": "code",
        "colab": {}
      },
      "source": [
        "hobbies = df['insured_hobbies'].unique()\n",
        "for hobby in hobbies:\n",
        "  if (hobby != 'chess') & (hobby != 'cross-fit'):\n",
        "    df['insured_hobbies'] = df['insured_hobbies'].str.replace(hobby, 'other')\n",
        "\n",
        "df['insured_hobbies'].unique()"
      ],
      "execution_count": 0,
      "outputs": []
    },
    {
      "cell_type": "code",
      "metadata": {
        "id": "TSoxE1mEKVzo",
        "trusted": true,
        "colab_type": "code",
        "colab": {}
      },
      "source": [
        "df.head()"
      ],
      "execution_count": 0,
      "outputs": []
    },
    {
      "cell_type": "code",
      "metadata": {
        "trusted": true,
        "id": "mPdDeeu8zGzo",
        "colab_type": "code",
        "colab": {}
      },
      "source": [
        "vis_data(df, 'age', 'anything', 'hist')"
      ],
      "execution_count": 0,
      "outputs": []
    },
    {
      "cell_type": "markdown",
      "metadata": {
        "id": "PpAqddaFgcRL",
        "colab_type": "text"
      },
      "source": [
        "We will bin the ages and then check the trend for fraud vs. no fraud according to age."
      ]
    },
    {
      "cell_type": "code",
      "metadata": {
        "id": "4kOgv1hHgvzt",
        "trusted": true,
        "colab_type": "code",
        "colab": {}
      },
      "source": [
        "df['age'].describe()"
      ],
      "execution_count": 0,
      "outputs": []
    },
    {
      "cell_type": "code",
      "metadata": {
        "id": "fZznzYzfgr45",
        "trusted": true,
        "colab_type": "code",
        "colab": {}
      },
      "source": [
        "bin_labels = ['15-20', '21-25', '26-30', '31-35', '36-40', '41-45', '46-50', '51-55', '56-60', '61-65']\n",
        "bins = [15, 20, 25, 30, 35, 40, 45, 50, 55, 60, 65]\n",
        "\n",
        "df['age_group'] = pd.cut(df['age'], bins = bins, labels = bin_labels, include_lowest = True)"
      ],
      "execution_count": 0,
      "outputs": []
    },
    {
      "cell_type": "code",
      "metadata": {
        "id": "2GMiABw2gr1E",
        "trusted": true,
        "colab_type": "code",
        "colab": {}
      },
      "source": [
        "vis_data(df, 'age_group')"
      ],
      "execution_count": 0,
      "outputs": []
    },
    {
      "cell_type": "markdown",
      "metadata": {
        "id": "cgnxrIa2i30o",
        "colab_type": "text"
      },
      "source": [
        "People in the age group of 31-35 and 41-45 have more number of frauds"
      ]
    },
    {
      "cell_type": "code",
      "metadata": {
        "trusted": true,
        "id": "8IVYfybZzGzs",
        "colab_type": "code",
        "colab": {}
      },
      "source": [
        "vis_data(df, 'months_as_customer', 'not', 'hist')"
      ],
      "execution_count": 0,
      "outputs": []
    },
    {
      "cell_type": "markdown",
      "metadata": {
        "id": "azavCjSzjFS3",
        "colab_type": "text"
      },
      "source": [
        "Like we did for the age column, we will create a new column grouping the months_as_customer column data."
      ]
    },
    {
      "cell_type": "code",
      "metadata": {
        "id": "0LfSvDWOjvfA",
        "trusted": true,
        "colab_type": "code",
        "colab": {}
      },
      "source": [
        "df['months_as_customer'].describe()"
      ],
      "execution_count": 0,
      "outputs": []
    },
    {
      "cell_type": "code",
      "metadata": {
        "id": "EAz5qiiNjG8r",
        "trusted": true,
        "colab_type": "code",
        "colab": {}
      },
      "source": [
        "bins = [0, 50, 100, 150, 200, 250, 300, 350, 400, 450, 500]\n",
        "bin_labels = ['0-50','51-100','101-150','151-200','201-250','251-300','301-350','351-400','401-450','451-500']\n",
        "\n",
        "df['months_as_customer_groups'] = pd.cut(df['months_as_customer'], bins = 10, labels = bin_labels, include_lowest= True)"
      ],
      "execution_count": 0,
      "outputs": []
    },
    {
      "cell_type": "code",
      "metadata": {
        "id": "IQJx5R66jG0M",
        "trusted": true,
        "colab_type": "code",
        "colab": {}
      },
      "source": [
        "vis_data(df, 'months_as_customer_groups')"
      ],
      "execution_count": 0,
      "outputs": []
    },
    {
      "cell_type": "code",
      "metadata": {
        "trusted": true,
        "id": "FuW7bszlzGzz",
        "colab_type": "code",
        "colab": {}
      },
      "source": [
        "vis_data(df, 'auto_make')"
      ],
      "execution_count": 0,
      "outputs": []
    },
    {
      "cell_type": "code",
      "metadata": {
        "trusted": true,
        "id": "enuUYCdGzGz6",
        "colab_type": "code",
        "colab": {}
      },
      "source": [
        "vis_data(df, 'number_of_vehicles_involved')"
      ],
      "execution_count": 0,
      "outputs": []
    },
    {
      "cell_type": "code",
      "metadata": {
        "trusted": true,
        "id": "BC5SDitHzGz-",
        "colab_type": "code",
        "colab": {}
      },
      "source": [
        "vis_data(df, 'witnesses', 'fraud_reported')"
      ],
      "execution_count": 0,
      "outputs": []
    },
    {
      "cell_type": "code",
      "metadata": {
        "id": "Lg20feU3_tGM",
        "trusted": true,
        "colab_type": "code",
        "colab": {}
      },
      "source": [
        "vis_data(df, 'bodily_injuries')"
      ],
      "execution_count": 0,
      "outputs": []
    },
    {
      "cell_type": "code",
      "metadata": {
        "trusted": true,
        "id": "m1HuOvcvzG0C",
        "colab_type": "code",
        "colab": {}
      },
      "source": [
        "vis_data(df, 'total_claim_amount', 'y', 'hist')"
      ],
      "execution_count": 0,
      "outputs": []
    },
    {
      "cell_type": "code",
      "metadata": {
        "trusted": true,
        "id": "rtxHk4a2zG0G",
        "colab_type": "code",
        "colab": {}
      },
      "source": [
        "vis_data(df, 'incident_hour_of_the_day')"
      ],
      "execution_count": 0,
      "outputs": []
    },
    {
      "cell_type": "code",
      "metadata": {
        "trusted": true,
        "id": "TGG3f_YWzG0K",
        "colab_type": "code",
        "colab": {}
      },
      "source": [
        "vis_data(df, 'number_of_vehicles_involved')"
      ],
      "execution_count": 0,
      "outputs": []
    },
    {
      "cell_type": "code",
      "metadata": {
        "trusted": true,
        "id": "o5ztM4h7zG0O",
        "colab_type": "code",
        "colab": {}
      },
      "source": [
        "vis_data(df, 'witnesses')"
      ],
      "execution_count": 0,
      "outputs": []
    },
    {
      "cell_type": "code",
      "metadata": {
        "id": "9TFO3ymeWOlI",
        "trusted": true,
        "colab_type": "code",
        "colab": {}
      },
      "source": [
        "vis_data(df, 'auto_year')"
      ],
      "execution_count": 0,
      "outputs": []
    },
    {
      "cell_type": "code",
      "metadata": {
        "id": "Hg5B_aE8WOcW",
        "trusted": true,
        "colab_type": "code",
        "colab": {}
      },
      "source": [
        "df['policy_annual_premium'].describe()"
      ],
      "execution_count": 0,
      "outputs": []
    },
    {
      "cell_type": "code",
      "metadata": {
        "id": "7anNKkF-WOP4",
        "trusted": true,
        "colab_type": "code",
        "colab": {}
      },
      "source": [
        "bins = list(np.linspace(0,2500, 6, dtype = int))\n",
        "bin_labels = ['very low', 'low', 'medium', 'high', 'very high']\n",
        "\n",
        "df['policy_annual_premium_groups'] = pd.cut(df['policy_annual_premium'], bins = bins, labels=bin_labels)"
      ],
      "execution_count": 0,
      "outputs": []
    },
    {
      "cell_type": "code",
      "metadata": {
        "id": "9U0_X6TVzDZF",
        "trusted": true,
        "colab_type": "code",
        "colab": {}
      },
      "source": [
        "vis_data(df, 'policy_annual_premium_groups')\n"
      ],
      "execution_count": 0,
      "outputs": []
    },
    {
      "cell_type": "code",
      "metadata": {
        "id": "0vSYWrEk2z-7",
        "trusted": true,
        "colab_type": "code",
        "colab": {}
      },
      "source": [
        "df['policy_deductable'].describe()"
      ],
      "execution_count": 0,
      "outputs": []
    },
    {
      "cell_type": "code",
      "metadata": {
        "id": "I4I5nPWu1i97",
        "trusted": true,
        "colab_type": "code",
        "colab": {}
      },
      "source": [
        "bins = list(np.linspace(0,2000, 5, dtype = int))\n",
        "bin_labels = ['0-500', '501-1000', '1001-1500', '1501-2000']\n",
        "\n",
        "df['policy_deductable_group'] = pd.cut(df['policy_deductable'], bins = bins, labels = bin_labels)\n",
        "\n",
        "vis_data(df, 'policy_deductable_group')"
      ],
      "execution_count": 0,
      "outputs": []
    },
    {
      "cell_type": "code",
      "metadata": {
        "id": "cLkELyxnBC10",
        "trusted": true,
        "colab_type": "code",
        "colab": {}
      },
      "source": [
        "vis_data(df, 'property_damage')"
      ],
      "execution_count": 0,
      "outputs": []
    },
    {
      "cell_type": "code",
      "metadata": {
        "id": "FIeTJojMBkD5",
        "trusted": true,
        "colab_type": "code",
        "colab": {}
      },
      "source": [
        "vis_data(df, 'police_report_available')"
      ],
      "execution_count": 0,
      "outputs": []
    },
    {
      "cell_type": "code",
      "metadata": {
        "trusted": true,
        "id": "m8Q4GgIRzG0h",
        "colab_type": "code",
        "colab": {}
      },
      "source": [
        "#removing columns for which we created groups\n",
        "df = df.drop(['age', 'months_as_customer', 'policy_deductable', 'policy_annual_premium'], axis = 1)\n",
        "df.columns"
      ],
      "execution_count": 0,
      "outputs": []
    },
    {
      "cell_type": "markdown",
      "metadata": {
        "id": "RDnsHXmR40YI",
        "colab_type": "text"
      },
      "source": [
        "Based on the EDA, we remove some of the columns"
      ]
    },
    {
      "cell_type": "code",
      "metadata": {
        "trusted": true,
        "id": "zWXcvt7rzG0l",
        "colab_type": "code",
        "colab": {}
      },
      "source": [
        "required_columns = ['policy_number', 'insured_sex', 'insured_education_level', 'insured_occupation',\n",
        "       'insured_hobbies', 'capital-gains', 'capital-loss', 'incident_type', 'collision_type', 'incident_severity',\n",
        "       'authorities_contacted', 'incident_hour_of_the_day', 'number_of_vehicles_involved',\n",
        "       'witnesses', 'total_claim_amount',\n",
        "       'injury_claim', 'property_claim', 'vehicle_claim',\n",
        "       'fraud_reported', 'age_group',\n",
        "       'months_as_customer_groups', 'policy_annual_premium_groups']\n",
        "\n",
        "print(len(required_columns))"
      ],
      "execution_count": 0,
      "outputs": []
    },
    {
      "cell_type": "code",
      "metadata": {
        "id": "eHqLMfp35iDw",
        "trusted": true,
        "colab_type": "code",
        "colab": {}
      },
      "source": [
        "df1 = df[required_columns]\n",
        "\n",
        "corr_matrix = df1.corr()\n",
        "\n",
        "fig = go.Figure(data = go.Heatmap(\n",
        "                                z = corr_matrix.values,\n",
        "                                x = list(corr_matrix.columns),\n",
        "                                y = list(corr_matrix.index)))\n",
        "\n",
        "fig.update_layout(title = 'Correlation')\n",
        "\n",
        "fig.show()"
      ],
      "execution_count": 0,
      "outputs": []
    },
    {
      "cell_type": "markdown",
      "metadata": {
        "id": "hewk8vAC47RD",
        "colab_type": "text"
      },
      "source": [
        "From the correlation matrix, we see there is high correlation between `vehicle claim`, `total_claim_amount`, `property_claim` and `injury_claim`\n",
        "\n",
        "The reason for it is that `total_claim_amount` is the sum of columns `vehicle claim`,`property_claim` and `injury_claim`.\n",
        "\n",
        "We will remove the other 3 columns and only keep `total_claim_amount` as it captures the information and removes collinearity."
      ]
    },
    {
      "cell_type": "code",
      "metadata": {
        "id": "Ypp6oIt985Pm",
        "trusted": true,
        "colab_type": "code",
        "colab": {}
      },
      "source": [
        "t = df['total_claim_amount'].iloc[1]\n",
        "a = df['vehicle_claim'].iloc[1]\n",
        "b = df['property_claim'].iloc[1]\n",
        "c = df['injury_claim'].iloc[1]\n",
        "\n",
        "print(t)\n",
        "a+b+c"
      ],
      "execution_count": 0,
      "outputs": []
    },
    {
      "cell_type": "markdown",
      "metadata": {
        "id": "8_REZvgG6GEA",
        "colab_type": "text"
      },
      "source": [
        "Keeping only the `total_claim_amount` column from these."
      ]
    },
    {
      "cell_type": "code",
      "metadata": {
        "id": "hivIh0mR45nM",
        "trusted": true,
        "colab_type": "code",
        "colab": {}
      },
      "source": [
        "required_columns = ['insured_sex', 'insured_occupation',\n",
        "       'insured_hobbies', 'capital-gains', 'capital-loss', 'incident_type', 'collision_type', 'incident_severity',\n",
        "       'authorities_contacted', 'incident_hour_of_the_day', 'number_of_vehicles_involved',\n",
        "       'witnesses', 'total_claim_amount', 'fraud_reported', 'age_group',\n",
        "       'months_as_customer_groups', 'policy_annual_premium_groups']\n",
        "\n",
        "print(len(required_columns))"
      ],
      "execution_count": 0,
      "outputs": []
    },
    {
      "cell_type": "code",
      "metadata": {
        "id": "9ewqPQNQ85MN",
        "trusted": true,
        "colab_type": "code",
        "colab": {}
      },
      "source": [
        "df1 = df1[required_columns]\n",
        "df1.head()"
      ],
      "execution_count": 0,
      "outputs": []
    },
    {
      "cell_type": "markdown",
      "metadata": {
        "id": "aI86HBaBEfqO",
        "colab_type": "text"
      },
      "source": [
        "## Encoding data for modelling"
      ]
    },
    {
      "cell_type": "code",
      "metadata": {
        "id": "i1qW-fAZDDpc",
        "trusted": true,
        "colab_type": "code",
        "colab": {}
      },
      "source": [
        "cat_cols = ['age_group', 'months_as_customer_groups', 'policy_annual_premium_groups']\n",
        "for col in cat_cols:\n",
        "  df1[col] = df1[col].astype('object')\n",
        "\n",
        "columns_to_encode = []\n",
        "for col in df1.columns:\n",
        "  if df1[col].dtype == 'object':\n",
        "    columns_to_encode.append(col)\n",
        "\n",
        "columns_to_encode"
      ],
      "execution_count": 0,
      "outputs": []
    },
    {
      "cell_type": "code",
      "metadata": {
        "id": "O9zOb0dKLmny",
        "trusted": true,
        "colab_type": "code",
        "colab": {}
      },
      "source": [
        "df1.info()"
      ],
      "execution_count": 0,
      "outputs": []
    },
    {
      "cell_type": "code",
      "metadata": {
        "id": "4ObECb9kauS2",
        "trusted": true,
        "colab_type": "code",
        "colab": {}
      },
      "source": [
        "df1.head()"
      ],
      "execution_count": 0,
      "outputs": []
    },
    {
      "cell_type": "code",
      "metadata": {
        "id": "hUXq2hjC-fDx",
        "trusted": true,
        "colab_type": "code",
        "colab": {}
      },
      "source": [
        "df2 = pd.get_dummies(df1, columns = columns_to_encode)\n",
        "\n",
        "df2.head()"
      ],
      "execution_count": 0,
      "outputs": []
    },
    {
      "cell_type": "markdown",
      "metadata": {
        "id": "asmon9vud3T3",
        "colab_type": "text"
      },
      "source": [
        "## Features and Target"
      ]
    },
    {
      "cell_type": "code",
      "metadata": {
        "id": "RT10F2srd0hj",
        "trusted": true,
        "colab_type": "code",
        "colab": {}
      },
      "source": [
        "features = []\n",
        "for col in df2.columns:\n",
        "  if col != 'fraud_reported':\n",
        "    features.append(col)\n",
        "\n",
        "target = 'fraud_reported'\n",
        "\n",
        "X = df2[features]\n",
        "y = df2[target]"
      ],
      "execution_count": 0,
      "outputs": []
    },
    {
      "cell_type": "markdown",
      "metadata": {
        "id": "49ToaIMAc2Bl",
        "colab_type": "text"
      },
      "source": [
        "## Scaling"
      ]
    },
    {
      "cell_type": "code",
      "metadata": {
        "id": "Z652p6nj-fBY",
        "trusted": true,
        "colab_type": "code",
        "colab": {}
      },
      "source": [
        "from sklearn.preprocessing import StandardScaler\n",
        "\n",
        "sc = StandardScaler()\n",
        "X = sc.fit_transform(X)"
      ],
      "execution_count": 0,
      "outputs": []
    },
    {
      "cell_type": "markdown",
      "metadata": {
        "id": "QULpCGvHfE_T",
        "colab_type": "text"
      },
      "source": [
        "# Modelling"
      ]
    },
    {
      "cell_type": "markdown",
      "metadata": {
        "id": "5kGNhavmfdVy",
        "colab_type": "text"
      },
      "source": [
        "## Splitting in train and test data"
      ]
    },
    {
      "cell_type": "code",
      "metadata": {
        "id": "_2BPlojDfb8j",
        "trusted": true,
        "colab_type": "code",
        "colab": {}
      },
      "source": [
        "X_train, X_test, y_train, y_test = train_test_split(X, y, random_state = 1)"
      ],
      "execution_count": 0,
      "outputs": []
    },
    {
      "cell_type": "markdown",
      "metadata": {
        "id": "vMtEo-utfAMd",
        "colab_type": "text"
      },
      "source": [
        "## Logistic Regression"
      ]
    },
    {
      "cell_type": "code",
      "metadata": {
        "id": "3-eTXtj5-exY",
        "trusted": true,
        "colab_type": "code",
        "colab": {}
      },
      "source": [
        "lr = LogisticRegression()\n",
        "\n",
        "lr.fit(X_train, y_train)\n",
        "preds = lr.predict(X_test)\n",
        "\n",
        "score = lr.score(X_test, y_test)\n",
        "print(score)"
      ],
      "execution_count": 0,
      "outputs": []
    },
    {
      "cell_type": "code",
      "metadata": {
        "id": "6eB1WS3p-ev4",
        "trusted": true,
        "colab_type": "code",
        "colab": {}
      },
      "source": [
        "print(classification_report(y_test, preds))"
      ],
      "execution_count": 0,
      "outputs": []
    },
    {
      "cell_type": "markdown",
      "metadata": {
        "id": "QcHU4VLgQ2Oz",
        "colab_type": "text"
      },
      "source": [
        "## Synthetic Minority Over-sampling Technique (SMOTE)\n",
        "\n",
        "We saw that our data is not balanced. Therefore, we will apply SMOTE and then predict."
      ]
    },
    {
      "cell_type": "code",
      "metadata": {
        "id": "HsJLQ16D-euD",
        "trusted": true,
        "colab_type": "code",
        "colab": {}
      },
      "source": [
        "oversample = SMOTE(random_state=9)"
      ],
      "execution_count": 0,
      "outputs": []
    },
    {
      "cell_type": "code",
      "metadata": {
        "id": "qp1KV5sq-erh",
        "trusted": true,
        "colab_type": "code",
        "colab": {}
      },
      "source": [
        "X_over, y_over = oversample.fit_resample(X, y)"
      ],
      "execution_count": 0,
      "outputs": []
    },
    {
      "cell_type": "code",
      "metadata": {
        "id": "LYKJz1CBRgdB",
        "trusted": true,
        "colab_type": "code",
        "colab": {}
      },
      "source": [
        "X_train, X_test, y_train, y_test = train_test_split(X_over, y_over, random_state = 1)"
      ],
      "execution_count": 0,
      "outputs": []
    },
    {
      "cell_type": "markdown",
      "metadata": {
        "id": "4STaBwK7Y0jE",
        "colab_type": "text"
      },
      "source": [
        "We will use the LogisticRegression we defined earlier"
      ]
    },
    {
      "cell_type": "code",
      "metadata": {
        "id": "CLVhk5xJXZG1",
        "trusted": true,
        "colab_type": "code",
        "colab": {}
      },
      "source": [
        "lr.fit(X_train, y_train)\n",
        "preds = lr.predict(X_test)\n",
        "score = lr.score(X_test, y_test)\n",
        "print(score)\n",
        "print()\n",
        "print(classification_report(y_test, preds))"
      ],
      "execution_count": 0,
      "outputs": []
    },
    {
      "cell_type": "markdown",
      "metadata": {
        "id": "mo2RoIHuZVxr",
        "colab_type": "text"
      },
      "source": [
        "### The accuracy increased from 84.8% to **85.1%**"
      ]
    },
    {
      "cell_type": "markdown",
      "metadata": {
        "id": "DQ5dQ3ubbOlk",
        "colab_type": "text"
      },
      "source": [
        "## Decision Tree"
      ]
    },
    {
      "cell_type": "code",
      "metadata": {
        "id": "hhvtT1OOZP58",
        "trusted": true,
        "colab_type": "code",
        "colab": {}
      },
      "source": [
        "dtc = DecisionTreeClassifier()\n",
        "\n",
        "dtc.fit(X_train, y_train)\n",
        "preds = dtc.predict(X_test)\n",
        "\n",
        "score = dtc.score(X_test, y_test)\n",
        "print(score)\n",
        "print()\n",
        "print(classification_report(y_test, preds))"
      ],
      "execution_count": 0,
      "outputs": []
    },
    {
      "cell_type": "markdown",
      "metadata": {
        "id": "rgn1_8546GFB",
        "colab_type": "text"
      },
      "source": [
        "## There is some more increase in accuracy"
      ]
    },
    {
      "cell_type": "code",
      "metadata": {
        "id": "3ZUFTEpDcL2l",
        "trusted": true,
        "colab_type": "code",
        "colab": {}
      },
      "source": [
        "from sklearn.ensemble import RandomForestClassifier"
      ],
      "execution_count": 0,
      "outputs": []
    },
    {
      "cell_type": "markdown",
      "metadata": {
        "id": "OTpV3ioa6GFE",
        "colab_type": "text"
      },
      "source": [
        "## Random Forest"
      ]
    },
    {
      "cell_type": "code",
      "metadata": {
        "id": "-OxUNcuhrdhe",
        "trusted": true,
        "colab_type": "code",
        "colab": {}
      },
      "source": [
        "rfc = RandomForestClassifier(random_state = 1)\n",
        "rfc.fit(X_train, y_train)"
      ],
      "execution_count": 0,
      "outputs": []
    },
    {
      "cell_type": "code",
      "metadata": {
        "id": "x5ejJI2lrvrh",
        "trusted": true,
        "colab_type": "code",
        "colab": {}
      },
      "source": [
        "preds = rfc.predict(X_test)\n",
        "\n",
        "score = rfc.score(X_test, y_test)\n",
        "print(score*100)\n",
        "print()\n",
        "print(classification_report(y_test, preds))"
      ],
      "execution_count": 0,
      "outputs": []
    },
    {
      "cell_type": "markdown",
      "metadata": {
        "id": "rWTWk2B56GFK",
        "colab_type": "text"
      },
      "source": [
        "## Using Random Forest, we got an accuracy of 90.18%.\n",
        "We were able to increase our model accuracy from 84.8% to over 90%.\n",
        "\n",
        "We will see if we can increase it further using hyperparameter tuning."
      ]
    },
    {
      "cell_type": "markdown",
      "metadata": {
        "id": "NwvAlpPS6GFK",
        "colab_type": "text"
      },
      "source": [
        "# Hyperparameter Tuning"
      ]
    },
    {
      "cell_type": "code",
      "metadata": {
        "trusted": true,
        "id": "FRtgAaO06GFL",
        "colab_type": "code",
        "colab": {}
      },
      "source": [
        "rfc_tuned = RandomForestClassifier(n_estimators = 1000, random_state = 1, min_samples_split = 2)\n",
        "rfc_tuned.fit(X_train, y_train)\n",
        "preds_tuned = rfc_tuned.predict(X_test)\n",
        "score = rfc_tuned.score(X_test, y_test)\n",
        "print(score)"
      ],
      "execution_count": 0,
      "outputs": []
    },
    {
      "cell_type": "markdown",
      "metadata": {
        "id": "-MMg_cNI6GFN",
        "colab_type": "text"
      },
      "source": [
        "There was no improvement. We will use GridSearch to check for the best parameters ad use them for tuning."
      ]
    },
    {
      "cell_type": "markdown",
      "metadata": {
        "id": "hkW8afO26GFN",
        "colab_type": "text"
      },
      "source": [
        "## GridSearch"
      ]
    },
    {
      "cell_type": "code",
      "metadata": {
        "id": "aKgfReiwavIG",
        "trusted": true,
        "colab_type": "code",
        "colab": {}
      },
      "source": [
        "n_estimators = [100, 300, 500, 800, 1200]\n",
        "max_depth = [5, 8, 15, 25, 30]\n",
        "min_samples_split = [2, 5, 10, 15, 100]\n",
        "min_samples_leaf = [1, 2, 5, 10] \n",
        "\n",
        "hyper = dict(n_estimators = n_estimators, max_depth = max_depth,  \n",
        "              min_samples_split = min_samples_split, \n",
        "             min_samples_leaf = min_samples_leaf)\n",
        "\n",
        "grid = GridSearchCV(rfc, hyper, cv = 3, verbose = 1, \n",
        "                      n_jobs = -1)\n",
        "best = grid.fit(X_train, y_train)"
      ],
      "execution_count": 0,
      "outputs": []
    },
    {
      "cell_type": "code",
      "metadata": {
        "trusted": true,
        "id": "Uh6fzNSC6GFR",
        "colab_type": "code",
        "colab": {}
      },
      "source": [
        "print(best)"
      ],
      "execution_count": 0,
      "outputs": []
    },
    {
      "cell_type": "markdown",
      "metadata": {
        "id": "ECoqvfZ96GFZ",
        "colab_type": "text"
      },
      "source": [
        "Using the best parameters from GridSearch"
      ]
    },
    {
      "cell_type": "code",
      "metadata": {
        "id": "JK92en53iXzb",
        "trusted": true,
        "colab_type": "code",
        "colab": {}
      },
      "source": [
        "rfc_tuned = RandomForestClassifier(bootstrap=True, ccp_alpha=0.0,\n",
        "                                              class_weight=None,\n",
        "                                              criterion='gini', max_depth=None,\n",
        "                                              max_features='auto',\n",
        "                                              max_leaf_nodes=None,\n",
        "                                              max_samples=None,\n",
        "                                              min_impurity_decrease=0.0,\n",
        "                                              min_impurity_split=None,\n",
        "                                              min_samples_leaf=1,\n",
        "                                              min_samples_split=2,\n",
        "                                              min_weight_fraction_leaf=0.0,\n",
        "                                              n_estimators=100, n_jobs=None,\n",
        "                                              oob_score=False, random_state=1,\n",
        "                                              verbose=0, warm_start=False)\n",
        "\n",
        "rfc_tuned.fit(X_train, y_train)\n",
        "preds_tuned = rfc_tuned.predict(X_test)\n",
        "\n",
        "score = rfc_tuned.score(X_test, y_test)\n",
        "\n",
        "print(score)"
      ],
      "execution_count": 0,
      "outputs": []
    },
    {
      "cell_type": "markdown",
      "metadata": {
        "id": "YWdGnxBH6GFe",
        "colab_type": "text"
      },
      "source": [
        "# Conclusion\n",
        "\n",
        "## Using GridSearch method also we got accuracy of 90.18%.\n",
        "\n",
        "We were able to increase our accuracy from 84% to over 90% using data cleaning, feature engineering, feature selection and hyperparameter tuning.\n",
        "\n",
        "### Upvote and like if you find it useful  "
      ]
    }
  ]
}